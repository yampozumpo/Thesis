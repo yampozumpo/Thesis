{
 "cells": [
  {
   "cell_type": "code",
   "execution_count": 2,
   "id": "1eb56869",
   "metadata": {},
   "outputs": [],
   "source": [
    "#  SETUP\n",
    "\n",
    "import pandas as pd\n",
    "import ast\n",
    "from collections import defaultdict\n",
    "import ast\n",
    "from difflib import SequenceMatcher\n",
    "\n",
    "# === Load your files ===\n",
    "structured_df = pd.read_csv(\"../data/structured_event_sequences.csv\")\n",
    "embedding_patterns_df = pd.read_csv(\"../data/embedded_cluster_patterns.csv\")\n",
    "boolean_patterns_df = pd.read_csv(\"../data/frequent_patterns_multilabel.csv\")\n"
   ]
  },
  {
   "cell_type": "code",
   "execution_count": 3,
   "id": "09de475a",
   "metadata": {},
   "outputs": [],
   "source": [
    "#     Helper Functions\n",
    "def get_cluster_examples(df, cluster_col='cluster_id', text_col='triplet_text', top_k=3):\n",
    "    cluster_examples = {}\n",
    "    for cid in sorted(df[cluster_col].dropna().unique()):\n",
    "        top_items = (\n",
    "            df[df[cluster_col] == cid][text_col]\n",
    "            .value_counts()\n",
    "            .head(top_k)\n",
    "            .index\n",
    "            .tolist()\n",
    "        )\n",
    "        cluster_examples[cid] = top_items\n",
    "    return cluster_examples\n",
    "\n",
    "def decode_cluster_pattern(pattern_str, mapping):\n",
    "    try:\n",
    "        cluster_seq = ast.literal_eval(pattern_str)\n",
    "        return [mapping.get(cid, [\"?\"]) for cid in cluster_seq]\n",
    "    except:\n",
    "        return [\"parse_error\"]\n",
    "\n",
    "\n",
    "cat = pd.read_csv(\"../data/Category_Combinations_Reference.csv\")\n",
    "# Define id_to_label mapping\n",
    "id_to_label = {\n",
    "    row['global_category_id']: (row['Actor_Category'], row['Phase_Category'], row['Goal_Category'])\n",
    "    for _, row in cat.iterrows()\n",
    "}\n",
    "def decode_boolean_pattern(pattern_str):\n",
    "    try:\n",
    "        steps = ast.literal_eval(pattern_str)\n",
    "        return [[id_to_label.get(i, f\"ID_{i}\") for i in step] for step in steps]\n",
    "    except:\n",
    "        return [\"parse_error\"]\n",
    "\n",
    "boolean_patterns_df[\"Decoded_Pattern\"] = boolean_patterns_df[\"Pattern\"].apply(decode_boolean_pattern)"
   ]
  },
  {
   "cell_type": "code",
   "execution_count": 4,
   "id": "e4beea5d",
   "metadata": {},
   "outputs": [
    {
     "name": "stdout",
     "output_type": "stream",
     "text": [
      "✅ Saved decoded pattern files:\n",
      "→ decoded_embedding_patterns.csv\n",
      "→ decoded_boolean_patterns.csv\n"
     ]
    }
   ],
   "source": [
    "structured_df[['Actor', 'Action', 'Object']] = structured_df[['Actor', 'Action', 'Object']].astype(str)\n",
    "structured_df['triplet_text'] = structured_df[['Actor', 'Action', 'Object']].agg(' '.join, axis=1)\n",
    "\n",
    "\n",
    "# Ensure 'cluster_id' column exists in structured_df\n",
    "if 'cluster_id' not in structured_df.columns:\n",
    "    structured_df['cluster_id'] = structured_df['dyad_id']  # Use 'dyad_id' as a placeholder for 'cluster_id'\n",
    "\n",
    "cluster_to_examples = get_cluster_examples(structured_df)\n",
    "\n",
    "\n",
    "embedding_patterns_df[\"Decoded_Pattern\"] = embedding_patterns_df[\"Pattern\"].apply(\n",
    "    lambda x: decode_cluster_pattern(x, cluster_to_examples)\n",
    ")\n",
    "\n",
    "\n",
    "# === 4. Save both ===\n",
    "embedding_patterns_df.to_csv(\"../data/decoded_embedding_patterns.csv\", index=False)\n",
    "boolean_patterns_df.to_csv(\"../data/decoded_boolean_patterns.csv\", index=False)\n",
    "\n",
    "print(\"✅ Saved decoded pattern files:\")\n",
    "print(\"→ decoded_embedding_patterns.csv\")\n",
    "print(\"→ decoded_boolean_patterns.csv\")"
   ]
  },
  {
   "cell_type": "code",
   "execution_count": 5,
   "id": "1402687b",
   "metadata": {},
   "outputs": [
    {
     "ename": "KeyboardInterrupt",
     "evalue": "",
     "output_type": "error",
     "traceback": [
      "\u001b[1;31m---------------------------------------------------------------------------\u001b[0m",
      "\u001b[1;31mKeyboardInterrupt\u001b[0m                         Traceback (most recent call last)",
      "\u001b[1;32m~\\AppData\\Local\\Temp\\ipykernel_8884\\1811075181.py\u001b[0m in \u001b[0;36m?\u001b[1;34m()\u001b[0m\n\u001b[0;32m     27\u001b[0m \u001b[1;33m\u001b[0m\u001b[0m\n\u001b[0;32m     28\u001b[0m \u001b[1;32mfor\u001b[0m \u001b[0mi\u001b[0m\u001b[1;33m,\u001b[0m \u001b[0mboolean_row\u001b[0m \u001b[1;32min\u001b[0m \u001b[0mdf_boolean\u001b[0m\u001b[1;33m.\u001b[0m\u001b[0miterrows\u001b[0m\u001b[1;33m(\u001b[0m\u001b[1;33m)\u001b[0m\u001b[1;33m:\u001b[0m\u001b[1;33m\u001b[0m\u001b[1;33m\u001b[0m\u001b[0m\n\u001b[0;32m     29\u001b[0m     \u001b[0mbest_match\u001b[0m \u001b[1;33m=\u001b[0m \u001b[1;32mNone\u001b[0m\u001b[1;33m\u001b[0m\u001b[1;33m\u001b[0m\u001b[0m\n\u001b[0;32m     30\u001b[0m     \u001b[0mbest_score\u001b[0m \u001b[1;33m=\u001b[0m \u001b[1;36m0.0\u001b[0m\u001b[1;33m\u001b[0m\u001b[1;33m\u001b[0m\u001b[0m\n\u001b[1;32m---> 31\u001b[1;33m     \u001b[1;32mfor\u001b[0m \u001b[0mj\u001b[0m\u001b[1;33m,\u001b[0m \u001b[0membedding_row\u001b[0m \u001b[1;32min\u001b[0m \u001b[0mdf_embedding\u001b[0m\u001b[1;33m.\u001b[0m\u001b[0miterrows\u001b[0m\u001b[1;33m(\u001b[0m\u001b[1;33m)\u001b[0m\u001b[1;33m:\u001b[0m\u001b[1;33m\u001b[0m\u001b[1;33m\u001b[0m\u001b[0m\n\u001b[0m\u001b[0;32m     32\u001b[0m         \u001b[0mscore\u001b[0m \u001b[1;33m=\u001b[0m \u001b[0msimilarity\u001b[0m\u001b[1;33m(\u001b[0m\u001b[0mboolean_row\u001b[0m\u001b[1;33m[\u001b[0m\u001b[1;34m'Formatted_Pattern'\u001b[0m\u001b[1;33m]\u001b[0m\u001b[1;33m,\u001b[0m \u001b[0membedding_row\u001b[0m\u001b[1;33m[\u001b[0m\u001b[1;34m'Formatted_Pattern'\u001b[0m\u001b[1;33m]\u001b[0m\u001b[1;33m)\u001b[0m\u001b[1;33m\u001b[0m\u001b[1;33m\u001b[0m\u001b[0m\n\u001b[0;32m     33\u001b[0m         \u001b[1;32mif\u001b[0m \u001b[0mscore\u001b[0m \u001b[1;33m>\u001b[0m \u001b[0mbest_score\u001b[0m\u001b[1;33m:\u001b[0m\u001b[1;33m\u001b[0m\u001b[1;33m\u001b[0m\u001b[0m\n\u001b[0;32m     34\u001b[0m             \u001b[0mbest_score\u001b[0m \u001b[1;33m=\u001b[0m \u001b[0mscore\u001b[0m\u001b[1;33m\u001b[0m\u001b[1;33m\u001b[0m\u001b[0m\n",
      "\u001b[1;32mc:\\Users\\ymont\\anaconda3\\envs\\Thesis\\Lib\\site-packages\\pandas\\core\\frame.py\u001b[0m in \u001b[0;36m?\u001b[1;34m(self)\u001b[0m\n\u001b[0;32m   1550\u001b[0m         \u001b[0mcolumns\u001b[0m \u001b[1;33m=\u001b[0m \u001b[0mself\u001b[0m\u001b[1;33m.\u001b[0m\u001b[0mcolumns\u001b[0m\u001b[1;33m\u001b[0m\u001b[1;33m\u001b[0m\u001b[0m\n\u001b[0;32m   1551\u001b[0m         \u001b[0mklass\u001b[0m \u001b[1;33m=\u001b[0m \u001b[0mself\u001b[0m\u001b[1;33m.\u001b[0m\u001b[0m_constructor_sliced\u001b[0m\u001b[1;33m\u001b[0m\u001b[1;33m\u001b[0m\u001b[0m\n\u001b[0;32m   1552\u001b[0m         \u001b[0musing_cow\u001b[0m \u001b[1;33m=\u001b[0m \u001b[0musing_copy_on_write\u001b[0m\u001b[1;33m(\u001b[0m\u001b[1;33m)\u001b[0m\u001b[1;33m\u001b[0m\u001b[1;33m\u001b[0m\u001b[0m\n\u001b[0;32m   1553\u001b[0m         \u001b[1;32mfor\u001b[0m \u001b[0mk\u001b[0m\u001b[1;33m,\u001b[0m \u001b[0mv\u001b[0m \u001b[1;32min\u001b[0m \u001b[0mzip\u001b[0m\u001b[1;33m(\u001b[0m\u001b[0mself\u001b[0m\u001b[1;33m.\u001b[0m\u001b[0mindex\u001b[0m\u001b[1;33m,\u001b[0m \u001b[0mself\u001b[0m\u001b[1;33m.\u001b[0m\u001b[0mvalues\u001b[0m\u001b[1;33m)\u001b[0m\u001b[1;33m:\u001b[0m\u001b[1;33m\u001b[0m\u001b[1;33m\u001b[0m\u001b[0m\n\u001b[1;32m-> 1554\u001b[1;33m             \u001b[0ms\u001b[0m \u001b[1;33m=\u001b[0m \u001b[0mklass\u001b[0m\u001b[1;33m(\u001b[0m\u001b[0mv\u001b[0m\u001b[1;33m,\u001b[0m \u001b[0mindex\u001b[0m\u001b[1;33m=\u001b[0m\u001b[0mcolumns\u001b[0m\u001b[1;33m,\u001b[0m \u001b[0mname\u001b[0m\u001b[1;33m=\u001b[0m\u001b[0mk\u001b[0m\u001b[1;33m)\u001b[0m\u001b[1;33m.\u001b[0m\u001b[0m__finalize__\u001b[0m\u001b[1;33m(\u001b[0m\u001b[0mself\u001b[0m\u001b[1;33m)\u001b[0m\u001b[1;33m\u001b[0m\u001b[1;33m\u001b[0m\u001b[0m\n\u001b[0m\u001b[0;32m   1555\u001b[0m             \u001b[1;32mif\u001b[0m \u001b[0musing_cow\u001b[0m \u001b[1;32mand\u001b[0m \u001b[0mself\u001b[0m\u001b[1;33m.\u001b[0m\u001b[0m_mgr\u001b[0m\u001b[1;33m.\u001b[0m\u001b[0mis_single_block\u001b[0m\u001b[1;33m:\u001b[0m\u001b[1;33m\u001b[0m\u001b[1;33m\u001b[0m\u001b[0m\n\u001b[0;32m   1556\u001b[0m                 \u001b[0ms\u001b[0m\u001b[1;33m.\u001b[0m\u001b[0m_mgr\u001b[0m\u001b[1;33m.\u001b[0m\u001b[0madd_references\u001b[0m\u001b[1;33m(\u001b[0m\u001b[0mself\u001b[0m\u001b[1;33m.\u001b[0m\u001b[0m_mgr\u001b[0m\u001b[1;33m)\u001b[0m  \u001b[1;31m# type: ignore[arg-type]\u001b[0m\u001b[1;33m\u001b[0m\u001b[1;33m\u001b[0m\u001b[0m\n\u001b[0;32m   1557\u001b[0m             \u001b[1;32myield\u001b[0m \u001b[0mk\u001b[0m\u001b[1;33m,\u001b[0m \u001b[0ms\u001b[0m\u001b[1;33m\u001b[0m\u001b[1;33m\u001b[0m\u001b[0m\n",
      "\u001b[1;32mc:\\Users\\ymont\\anaconda3\\envs\\Thesis\\Lib\\site-packages\\pandas\\core\\series.py\u001b[0m in \u001b[0;36m?\u001b[1;34m(self, data, index, dtype, name, copy, fastpath)\u001b[0m\n\u001b[0;32m    588\u001b[0m                 \u001b[0mdata\u001b[0m \u001b[1;33m=\u001b[0m \u001b[0mSingleBlockManager\u001b[0m\u001b[1;33m.\u001b[0m\u001b[0mfrom_array\u001b[0m\u001b[1;33m(\u001b[0m\u001b[0mdata\u001b[0m\u001b[1;33m,\u001b[0m \u001b[0mindex\u001b[0m\u001b[1;33m,\u001b[0m \u001b[0mrefs\u001b[0m\u001b[1;33m=\u001b[0m\u001b[0mrefs\u001b[0m\u001b[1;33m)\u001b[0m\u001b[1;33m\u001b[0m\u001b[1;33m\u001b[0m\u001b[0m\n\u001b[0;32m    589\u001b[0m             \u001b[1;32melif\u001b[0m \u001b[0mmanager\u001b[0m \u001b[1;33m==\u001b[0m \u001b[1;34m\"array\"\u001b[0m\u001b[1;33m:\u001b[0m\u001b[1;33m\u001b[0m\u001b[1;33m\u001b[0m\u001b[0m\n\u001b[0;32m    590\u001b[0m                 \u001b[0mdata\u001b[0m \u001b[1;33m=\u001b[0m \u001b[0mSingleArrayManager\u001b[0m\u001b[1;33m.\u001b[0m\u001b[0mfrom_array\u001b[0m\u001b[1;33m(\u001b[0m\u001b[0mdata\u001b[0m\u001b[1;33m,\u001b[0m \u001b[0mindex\u001b[0m\u001b[1;33m)\u001b[0m\u001b[1;33m\u001b[0m\u001b[1;33m\u001b[0m\u001b[0m\n\u001b[0;32m    591\u001b[0m \u001b[1;33m\u001b[0m\u001b[0m\n\u001b[1;32m--> 592\u001b[1;33m         \u001b[0mNDFrame\u001b[0m\u001b[1;33m.\u001b[0m\u001b[0m__init__\u001b[0m\u001b[1;33m(\u001b[0m\u001b[0mself\u001b[0m\u001b[1;33m,\u001b[0m \u001b[0mdata\u001b[0m\u001b[1;33m)\u001b[0m\u001b[1;33m\u001b[0m\u001b[1;33m\u001b[0m\u001b[0m\n\u001b[0m\u001b[0;32m    593\u001b[0m         \u001b[0mself\u001b[0m\u001b[1;33m.\u001b[0m\u001b[0mname\u001b[0m \u001b[1;33m=\u001b[0m \u001b[0mname\u001b[0m\u001b[1;33m\u001b[0m\u001b[1;33m\u001b[0m\u001b[0m\n\u001b[0;32m    594\u001b[0m         \u001b[0mself\u001b[0m\u001b[1;33m.\u001b[0m\u001b[0m_set_axis\u001b[0m\u001b[1;33m(\u001b[0m\u001b[1;36m0\u001b[0m\u001b[1;33m,\u001b[0m \u001b[0mindex\u001b[0m\u001b[1;33m)\u001b[0m\u001b[1;33m\u001b[0m\u001b[1;33m\u001b[0m\u001b[0m\n\u001b[0;32m    595\u001b[0m \u001b[1;33m\u001b[0m\u001b[0m\n",
      "\u001b[1;32mc:\\Users\\ymont\\anaconda3\\envs\\Thesis\\Lib\\site-packages\\pandas\\core\\generic.py\u001b[0m in \u001b[0;36m?\u001b[1;34m(self, data)\u001b[0m\n\u001b[1;32m--> 278\u001b[1;33m     \u001b[1;32mdef\u001b[0m \u001b[0m__init__\u001b[0m\u001b[1;33m(\u001b[0m\u001b[0mself\u001b[0m\u001b[1;33m,\u001b[0m \u001b[0mdata\u001b[0m\u001b[1;33m:\u001b[0m \u001b[0mManager\u001b[0m\u001b[1;33m)\u001b[0m \u001b[1;33m->\u001b[0m \u001b[1;32mNone\u001b[0m\u001b[1;33m:\u001b[0m\u001b[1;33m\u001b[0m\u001b[1;33m\u001b[0m\u001b[0m\n\u001b[0m\u001b[0;32m    279\u001b[0m         \u001b[0mobject\u001b[0m\u001b[1;33m.\u001b[0m\u001b[0m__setattr__\u001b[0m\u001b[1;33m(\u001b[0m\u001b[0mself\u001b[0m\u001b[1;33m,\u001b[0m \u001b[1;34m\"_is_copy\"\u001b[0m\u001b[1;33m,\u001b[0m \u001b[1;32mNone\u001b[0m\u001b[1;33m)\u001b[0m\u001b[1;33m\u001b[0m\u001b[1;33m\u001b[0m\u001b[0m\n\u001b[0;32m    280\u001b[0m         \u001b[0mobject\u001b[0m\u001b[1;33m.\u001b[0m\u001b[0m__setattr__\u001b[0m\u001b[1;33m(\u001b[0m\u001b[0mself\u001b[0m\u001b[1;33m,\u001b[0m \u001b[1;34m\"_mgr\"\u001b[0m\u001b[1;33m,\u001b[0m \u001b[0mdata\u001b[0m\u001b[1;33m)\u001b[0m\u001b[1;33m\u001b[0m\u001b[1;33m\u001b[0m\u001b[0m\n\u001b[0;32m    281\u001b[0m         \u001b[0mobject\u001b[0m\u001b[1;33m.\u001b[0m\u001b[0m__setattr__\u001b[0m\u001b[1;33m(\u001b[0m\u001b[0mself\u001b[0m\u001b[1;33m,\u001b[0m \u001b[1;34m\"_item_cache\"\u001b[0m\u001b[1;33m,\u001b[0m \u001b[1;33m{\u001b[0m\u001b[1;33m}\u001b[0m\u001b[1;33m)\u001b[0m\u001b[1;33m\u001b[0m\u001b[1;33m\u001b[0m\u001b[0m\n",
      "\u001b[1;31mKeyboardInterrupt\u001b[0m: "
     ]
    }
   ],
   "source": [
    "#DOES NOT WORK\n",
    "#TOO MUCH COMPLEXITY\n",
    "\n",
    "# Load formatted boolean and embedding patterns\n",
    "df_boolean = pd.read_csv(\"../data/decoded_boolean_patterns.csv\")\n",
    "df_embedding = pd.read_csv(\"../data/decoded_embedding_patterns.csv\")\n",
    "\n",
    "# Optional: convert pattern strings to clean readable form\n",
    "def format_decoded_pattern(pattern_str):\n",
    "    try:\n",
    "        pattern = ast.literal_eval(pattern_str)\n",
    "        flat = [\"/\".join(triple) for item in pattern for triple in item]\n",
    "        return \" → \".join(flat)\n",
    "    except:\n",
    "        return pattern_str\n",
    "\n",
    "# Apply formatting to both boolean and embedding patterns\n",
    "df_boolean['Formatted_Pattern'] = df_boolean['Decoded_Pattern'].apply(format_decoded_pattern)\n",
    "df_embedding['Formatted_Pattern'] = df_embedding['Decoded_Pattern'].apply(format_decoded_pattern)\n",
    "\n",
    "# Function to compute similarity (0 to 1)\n",
    "def similarity(a, b):\n",
    "    return SequenceMatcher(None, a, b).ratio()\n",
    "\n",
    "# Create a result table to compare top matches\n",
    "results = []\n",
    "\n",
    "for i, boolean_row in df_boolean.iterrows():\n",
    "    best_match = None\n",
    "    best_score = 0.0\n",
    "    for j, embedding_row in df_embedding.iterrows():\n",
    "        score = similarity(boolean_row['Formatted_Pattern'], embedding_row['Formatted_Pattern'])\n",
    "        if score > best_score:\n",
    "            best_score = score\n",
    "            best_match = embedding_row['Formatted_Pattern']\n",
    "    results.append({\n",
    "        \"Boolean_Pattern\": boolean_row['Formatted_Pattern'],\n",
    "        \"Best_Embedding_Match\": best_match,\n",
    "        \"Similarity_Score\": round(best_score, 3)\n",
    "    })\n",
    "\n",
    "# Convert to DataFrame and optionally save\n",
    "df_compare = pd.DataFrame(results)\n",
    "df_compare.to_csv(\"../data/pattern_similarity_comparison.csv\", index=False)\n",
    "\n",
    "# Display top examples\n",
    "print(df_compare.head())\n"
   ]
  }
 ],
 "metadata": {
  "kernelspec": {
   "display_name": "Thesis",
   "language": "python",
   "name": "python3"
  },
  "language_info": {
   "codemirror_mode": {
    "name": "ipython",
    "version": 3
   },
   "file_extension": ".py",
   "mimetype": "text/x-python",
   "name": "python",
   "nbconvert_exporter": "python",
   "pygments_lexer": "ipython3",
   "version": "3.12.5"
  }
 },
 "nbformat": 4,
 "nbformat_minor": 5
}
