{
 "cells": [
  {
   "cell_type": "code",
   "execution_count": 40,
   "metadata": {},
   "outputs": [],
   "source": [
    "import pandas as pd\n",
    "import ast\n"
   ]
  },
  {
   "cell_type": "code",
   "execution_count": 41,
   "metadata": {},
   "outputs": [],
   "source": [
    "#Functions \n",
    "\n",
    "def calculate_combinations(row):\n",
    "    result = 1\n",
    "    row = ast.literal_eval(row)\n",
    "    for list in row:\n",
    "        result = result * len(list)\n",
    "    return result"
   ]
  },
  {
   "cell_type": "code",
   "execution_count": 42,
   "metadata": {},
   "outputs": [],
   "source": [
    "# group categories by dyad_id and convert the global_category column to a list of lists\n",
    "\n",
    "df = pd.read_csv('categories.csv')\n",
    "\n",
    "df = pd.read_csv('categories.csv')\n",
    "\n",
    "df['global_category'] = df['global_category'].apply(\n",
    "    lambda x: ast.literal_eval(x) if isinstance(x, str) else x\n",
    ")\n",
    "df = df[df['global_category'].apply(lambda x: isinstance(x, list) and len(x) > 0)]\n",
    "\n",
    "grouped_df = df.groupby('dyad_id')['global_category'].apply(list).reset_index()\n",
    "\n",
    "grouped_df.to_csv('grouped_categories.csv', index=False)"
   ]
  },
  {
   "cell_type": "code",
   "execution_count": null,
   "metadata": {},
   "outputs": [
    {
     "name": "stdout",
     "output_type": "stream",
     "text": [
      "Rows with num_combinations = 1: 161\n",
      "Rows with num_combinations > 1: 339\n"
     ]
    }
   ],
   "source": [
    "# Calculate the number of combinations for each dyad_id and sum them up\n",
    "\n",
    "grouped_df = pd.read_csv('grouped_categories.csv')\n",
    "grouped_df['num_combinations'] = grouped_df['global_category'].apply(calculate_combinations)\n",
    "total_combinations = grouped_df['num_combinations'].sum()\n",
    "print(\"Total combinations:\", total_combinations)\n",
    "\n"
   ]
  },
  {
   "cell_type": "code",
   "execution_count": 50,
   "metadata": {},
   "outputs": [],
   "source": [
    "\n",
    "\n",
    "df = pd.read_csv(\"grouped_categories.csv\")\n",
    "\n",
    "# This will hold lines in SPMF format\n",
    "\n",
    "spmf_lines = []\n",
    "\n",
    "for _, row in df.iterrows():\n",
    "    dyad_id = row[\"dyad_id\"]\n",
    "    try:\n",
    "        sequence = ast.literal_eval(row[\"global_category\"])  # Parse the list of steps\n",
    "        spmf_sequence = []\n",
    "        for step in sequence:\n",
    "            if isinstance(step, list) and step:\n",
    "                items = [str(item) for item in step]\n",
    "                spmf_sequence.append(\" \".join(items) + \" -1\")\n",
    "        spmf_sequence.append(\"-2\")\n",
    "        line = f\"{dyad_id}: \" + \" \".join(spmf_sequence)\n",
    "        spmf_lines.append(line)\n",
    "    except Exception as e:\n",
    "        print(f\"❌ Error parsing row {dyad_id}: {e}\")\n",
    "\n",
    "\n",
    "    # Save the SPMF formatted lines to a CSV file\n",
    "    with open(\"grouped_categories_spmf.csv\", \"w\") as file:\n",
    "        for line in spmf_lines:\n",
    "            file.write(line + \"\\n\")"
   ]
  }
 ],
 "metadata": {
  "kernelspec": {
   "display_name": "Thesis",
   "language": "python",
   "name": "python3"
  },
  "language_info": {
   "codemirror_mode": {
    "name": "ipython",
    "version": 3
   },
   "file_extension": ".py",
   "mimetype": "text/x-python",
   "name": "python",
   "nbconvert_exporter": "python",
   "pygments_lexer": "ipython3",
   "version": "3.12.5"
  }
 },
 "nbformat": 4,
 "nbformat_minor": 2
}
